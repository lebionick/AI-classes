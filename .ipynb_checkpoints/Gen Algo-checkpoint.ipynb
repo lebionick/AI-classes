{
 "cells": [
  {
   "cell_type": "markdown",
   "metadata": {},
   "source": [
    "## Генетический алгоритм Genitor"
   ]
  },
  {
   "cell_type": "markdown",
   "metadata": {
    "collapsed": true
   },
   "source": [
    "В модели генитор (Genitor) используется специфичный способ отбора.\n",
    "Вначале, как и полагается, популяция инициализируется, и ее особи оцениваются.\n",
    "Затем выбираются случайным образом две особи, скрещиваются, причем получается только один потомок,\n",
    "который оценивается и занимает место менее приспособленной особи в популяции (а не одного из родителей!).\n",
    "После этого снова случайным образом выбираются две особи, и их потомок занимает место\n",
    "родительской особи с самой низкой приспособленностью. Таким образом, на каждом шаге в популяции\n",
    "обновляется лишь одна особь. Процесс продолжается до тех пор, пока пригодности хромосом не станут одинаковыми. \n",
    "В данный алгоритм можно добавить мутацию потомка после его создания. \n",
    "Критерий окончания процесса, как и вид кроссинговера и мутации, можно выбирать разными способами."
   ]
  },
  {
   "cell_type": "markdown",
   "metadata": {
    "collapsed": true
   },
   "source": [
    "**Данный алгоритм использует максимизацию функций, поэтому для нахождения минимума необходимо заменить функцию на обратную**"
   ]
  },
  {
   "cell_type": "code",
   "execution_count": 3,
   "metadata": {
    "collapsed": true
   },
   "outputs": [],
   "source": [
    "from random import sample\n",
    "import numpy as np"
   ]
  },
  {
   "cell_type": "code",
   "execution_count": 92,
   "metadata": {
    "collapsed": true
   },
   "outputs": [],
   "source": [
    "def square_func(vector):\n",
    "    return -np.sum(vector ** 2)\n",
    "\n",
    "def rastrigin_func(vector):\n",
    "    return -np.sum(vector**2 - 10 * np.cos(2*np.pi*vector))\n",
    "\n",
    "def eggholder(vector):\n",
    "    assert len(vector) == 2, 'Not appropriate dim, use 2'\n",
    "    x, y = vector[0], vector[1]\n",
    "    if abs(x) > 512. or abs(y) > 512.:\n",
    "        return -1000\n",
    "    return (y+47)*np.sin(abs(x*0.5 + y + 47)**0.5) + x*np.sin(abs(x-y-47)**0.5)\n",
    "\n",
    "def bukin(vector):\n",
    "    assert len(vector) == 2, 'Not appropriate dim, use 2'\n",
    "    x, y = vector[0], vector[1]\n",
    "    if x < -15 or x > -5 or abs(y) > 3:\n",
    "        return -100.\n",
    "    return -(100 * (abs(y - 0.01*x*x)**0.5) + 0.01*abs(x + 10))\n",
    "\n",
    "def himmelblau(vector):\n",
    "    assert len(vector) == 2, 'Not appropriate dim, use 2'\n",
    "    x, y = vector[0], vector[1]\n",
    "    return -((x*x + y - 11)**2 + (x + y**2 - 7)**2)\n",
    "\n",
    "def crossintray(vector):\n",
    "    assert len(vector) == 2, 'Not appropriate dim, use 2'\n",
    "    x, y = vector[0], vector[1]\n",
    "    return 0.0001*(abs(np.sin(x)*np.sin(y)*np.exp(abs(100-(x*x+y*y)**0.5/np.pi))))**0.1"
   ]
  },
  {
   "cell_type": "markdown",
   "metadata": {},
   "source": [
    "Введем гиперпараметры оптимизации:\n",
    " - FUNCTION - оптимизируемая функция, одна из [пула](https://en.wikipedia.org/wiki/Test_functions_for_optimization)\n",
    " - PRECISION - число знаков после запятой хранящихся в бинарном представлении чисел\n",
    " - MAX_ITER - число итераций алгоритма\n",
    " - RANGE - диапазон поиска\n",
    " - BITS - число бит, достаточных для представления числа с заданной точностью на заданом участке\n",
    " - BITS_CODE - код форматирования\n",
    " - POPULATION_LENGTH - размер популяции"
   ]
  },
  {
   "cell_type": "code",
   "execution_count": 96,
   "metadata": {
    "collapsed": true
   },
   "outputs": [],
   "source": [
    "FUNCTION = crossintray#eggholder#rastrigin_func\n",
    "PRECISION = 8\n",
    "MAX_ITER = 10000\n",
    "RANGE = 10.\n",
    "BITS = int(np.log2(10**PRECISION * 15)) + 1\n",
    "BITS_CODE = '0{0}b'.format(BITS)\n",
    "POPULATION_LENGTH = 250"
   ]
  },
  {
   "cell_type": "code",
   "execution_count": 97,
   "metadata": {
    "scrolled": false
   },
   "outputs": [
    {
     "name": "stdout",
     "output_type": "stream",
     "text": [
      "[-1.34940147 -1.34941568]\n",
      "2.0626118708092305\n"
     ]
    }
   ],
   "source": [
    "population = generate_population(POPULATION_LENGTH, 2, range_=RANGE)\n",
    "\n",
    "for iter_num in range(MAX_ITER):\n",
    "    sp1, sp2 = sample(population, 2)\n",
    "    child = sp1.cross_over(sp2).mutate(iter_num, 1)\n",
    "    population.sort(key=lambda x: -x.assess(FUNCTION))\n",
    "    if population[POPULATION_LENGTH - 1].assess(FUNCTION) < child.assess(FUNCTION):\n",
    "        population[POPULATION_LENGTH - 1] = child\n",
    "\n",
    "    idsp1, idsp2 = sample(range(0, POPULATION_LENGTH), 2)\n",
    "    sp1 = population[idsp1]\n",
    "    sp2 = population[idsp2]\n",
    "    child = sp1.cross_over(sp2).mutate(iter_num, 1)\n",
    "#     if child.assess(FUNCTION) < sp1.assess(FUNCTION) and child.assess(FUNCTION) < sp2.assess(FUNCTION):\n",
    "#         continue\n",
    "    if sp1.assess(FUNCTION) < sp2.assess(FUNCTION):\n",
    "        population[idsp1] = child\n",
    "    else:\n",
    "        population[idsp2] = child\n",
    "        \n",
    "population.sort(key=lambda x: -x.assess(FUNCTION))\n",
    "\n",
    "print(list(map(lambda x:x.features, population))[0])\n",
    "print(list(map(lambda x:x.assess(FUNCTION), population))[0])"
   ]
  },
  {
   "cell_type": "code",
   "execution_count": 112,
   "metadata": {
    "collapsed": true
   },
   "outputs": [],
   "source": [
    "FUNCTION = bukin#eggholder#rastrigin_func\n",
    "PRECISION = 12\n",
    "MAX_ITER = 50000\n",
    "RANGE = 12.\n",
    "BITS = int(np.log2(10**PRECISION * 15)) + 1\n",
    "BITS_CODE = '0{0}b'.format(BITS)"
   ]
  },
  {
   "cell_type": "code",
   "execution_count": 113,
   "metadata": {
    "scrolled": false
   },
   "outputs": [
    {
     "name": "stdout",
     "output_type": "stream",
     "text": [
      "[-10.33946294   1.06904494]\n",
      "-0.00345812999279843\n"
     ]
    }
   ],
   "source": [
    "POPULATION_LENGTH = 300\n",
    "population = generate_population(POPULATION_LENGTH, 2, range_=RANGE)\n",
    "#print(list(map(lambda x:x.features, population)))\n",
    "\n",
    "for iter_num in range(MAX_ITER):\n",
    "    sp1, sp2 = sample(population, 2)\n",
    "    child = sp1.cross_over(sp2).mutate(iter_num, 1)\n",
    "    population.sort(key=lambda x: -x.assess(FUNCTION))\n",
    "    if population[POPULATION_LENGTH - 1].assess(FUNCTION) < child.assess(FUNCTION):\n",
    "        population[POPULATION_LENGTH - 1] = child\n",
    "\n",
    "    idsp1, idsp2 = sample(range(0, POPULATION_LENGTH), 2)\n",
    "    sp1 = population[idsp1]\n",
    "    sp2 = population[idsp2]\n",
    "    child = sp1.cross_over(sp2).mutate(iter_num, 1)\n",
    "#     if child.assess(FUNCTION) < sp1.assess(FUNCTION) and child.assess(FUNCTION) < sp2.assess(FUNCTION):\n",
    "#         continue\n",
    "    if sp1.assess(FUNCTION) < sp2.assess(FUNCTION):\n",
    "        population[idsp1] = child\n",
    "    else:\n",
    "        population[idsp2] = child\n",
    "        \n",
    "population.sort(key=lambda x: -x.assess(FUNCTION))\n",
    "#print(population[0].features)\n",
    "print(list(map(lambda x:x.features, population))[0])\n",
    "print(list(map(lambda x:x.assess(FUNCTION), population))[0])"
   ]
  },
  {
   "cell_type": "code",
   "execution_count": 8,
   "metadata": {
    "collapsed": true
   },
   "outputs": [],
   "source": [
    "def generate_population(num_species, n_dim, range_= 50.):\n",
    "    population = []\n",
    "    for _ in range(num_species):\n",
    "        population.append(Species(n_dim, range_))\n",
    "    return population"
   ]
  },
  {
   "cell_type": "code",
   "execution_count": 10,
   "metadata": {
    "collapsed": true
   },
   "outputs": [],
   "source": [
    "def generate_vector(n_dim, range_):\n",
    "    return np.clip(np.random.randn(n_dim) * range_ * 0.5, -range_, range_)"
   ]
  },
  {
   "cell_type": "code",
   "execution_count": 9,
   "metadata": {
    "collapsed": true
   },
   "outputs": [],
   "source": [
    "def invert(bit):\n",
    "    return '0' if bit == '1' else '1'"
   ]
  },
  {
   "cell_type": "code",
   "execution_count": 11,
   "metadata": {
    "collapsed": true
   },
   "outputs": [],
   "source": [
    "def decimal2binary(vector):\n",
    "    return list(map(lambda x: format(int(x * 10 ** PRECISION), BITS_CODE), list(vector)))"
   ]
  },
  {
   "cell_type": "code",
   "execution_count": 12,
   "metadata": {
    "collapsed": true
   },
   "outputs": [],
   "source": [
    "def binary2decimal(vector):\n",
    "    return np.array(list(map(lambda x: int(x, 2) / (10 ** PRECISION), vector)))"
   ]
  },
  {
   "cell_type": "code",
   "execution_count": 13,
   "metadata": {
    "collapsed": true
   },
   "outputs": [],
   "source": [
    "class Species:\n",
    "    def __init__(self, n_dim=1, range_=50., features=[]):\n",
    "        if len(features) == 0:\n",
    "            self.features = generate_vector(n_dim, range_)\n",
    "        else:\n",
    "            self.features = features\n",
    "    \n",
    "    def mutate(self, decay=0, rate=1):\n",
    "        '''\n",
    "        Perform random mutation - inverting rate times random bit.\n",
    "        '''\n",
    "        genetic_code = decimal2binary(self.features)\n",
    "        min_boundary = 0#BITS-35# min(BITS-PRECISION, round((BITS-1)*decay/MAX_ITER))\n",
    "        for _ in range(rate):\n",
    "            for i, feature in enumerate(genetic_code):\n",
    "                chromosome = np.random.randint(min_boundary, BITS-1)\n",
    "                if feature[0] == '-':\n",
    "                    chromosome += 1\n",
    "                bit = feature[chromosome]\n",
    "                mutated = feature[:chromosome] + invert(bit) + feature[chromosome + 1:]\n",
    "                genetic_code[i] = mutated\n",
    "            self.features = binary2decimal(genetic_code)\n",
    "        return self\n",
    "        \n",
    "    def cross_over(self, partner):\n",
    "        '''\n",
    "        Perform crossover - inserting random patch from one species to another\n",
    "        '''\n",
    "        gens1 = decimal2binary(self.features)\n",
    "        gens2 = decimal2binary(partner.features)\n",
    "        child_gens = []\n",
    "        for i, feature in enumerate(gens1):\n",
    "            chromosome_start = np.random.randint(0, BITS - 1)\n",
    "            chromosome_end = np.random.randint(chromosome_start + 1, BITS)\n",
    "            \n",
    "            if feature[0] == '-':\n",
    "                chromosome_start += 1\n",
    "                chromosome_end += 1\n",
    "            \n",
    "            child_gens.append(feature[:chromosome_start] + gens2[i][chromosome_start:chromosome_end] \n",
    "                              + feature[chromosome_end:])\n",
    "        return Species(features = binary2decimal(child_gens))\n",
    "    \n",
    "    def assess(self, function):\n",
    "        return function(self.features)"
   ]
  },
  {
   "cell_type": "code",
   "execution_count": null,
   "metadata": {
    "collapsed": true
   },
   "outputs": [],
   "source": []
  },
  {
   "cell_type": "code",
   "execution_count": null,
   "metadata": {
    "collapsed": true
   },
   "outputs": [],
   "source": []
  },
  {
   "cell_type": "code",
   "execution_count": null,
   "metadata": {
    "collapsed": true
   },
   "outputs": [],
   "source": []
  }
 ],
 "metadata": {
  "kernelspec": {
   "display_name": "Python 3",
   "language": "python",
   "name": "python3"
  },
  "language_info": {
   "codemirror_mode": {
    "name": "ipython",
    "version": 3
   },
   "file_extension": ".py",
   "mimetype": "text/x-python",
   "name": "python",
   "nbconvert_exporter": "python",
   "pygments_lexer": "ipython3",
   "version": "3.6.2"
  }
 },
 "nbformat": 4,
 "nbformat_minor": 2
}
