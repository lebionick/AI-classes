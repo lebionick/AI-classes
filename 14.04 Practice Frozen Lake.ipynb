{
 "cells": [
  {
   "cell_type": "code",
   "execution_count": 41,
   "metadata": {},
   "outputs": [],
   "source": [
    "import numpy as np\n",
    "from IPython.display import clear_output\n",
    "import time"
   ]
  },
  {
   "cell_type": "code",
   "execution_count": 23,
   "metadata": {},
   "outputs": [],
   "source": [
    "from numpy.random import randint, choice"
   ]
  },
  {
   "cell_type": "code",
   "execution_count": 5,
   "metadata": {},
   "outputs": [],
   "source": [
    "import gym"
   ]
  },
  {
   "cell_type": "code",
   "execution_count": 6,
   "metadata": {
    "collapsed": true
   },
   "outputs": [],
   "source": [
    "env = gym.make('FrozenLake-v0')"
   ]
  },
  {
   "cell_type": "code",
   "execution_count": 46,
   "metadata": {
    "collapsed": true
   },
   "outputs": [],
   "source": [
    "def random_step(prev_state, policy):\n",
    "    return choice([0, 1, 2, 3], p=policy[prev_state])"
   ]
  },
  {
   "cell_type": "code",
   "execution_count": 47,
   "metadata": {
    "collapsed": true
   },
   "outputs": [],
   "source": [
    "n_actions = env.action_space.n\n",
    "n_states = env.observation_space.n"
   ]
  },
  {
   "cell_type": "code",
   "execution_count": 55,
   "metadata": {},
   "outputs": [],
   "source": [
    "def make_onehot(class_, num_classes):\n",
    "    b = np.zeros((num_classes), dtype=np.int)\n",
    "    b[class_] = 1\n",
    "    return b"
   ]
  },
  {
   "cell_type": "code",
   "execution_count": 60,
   "metadata": {},
   "outputs": [
    {
     "data": {
      "text/plain": [
       "array([0, 0, 0, 1])"
      ]
     },
     "execution_count": 60,
     "metadata": {},
     "output_type": "execute_result"
    }
   ],
   "source": [
    "make_onehot(3,4)"
   ]
  },
  {
   "cell_type": "code",
   "execution_count": 73,
   "metadata": {
    "collapsed": true
   },
   "outputs": [],
   "source": [
    "def softmax(array):\n",
    "    return np.exp(array) / np.sum(np.exp(array))"
   ]
  },
  {
   "cell_type": "code",
   "execution_count": 205,
   "metadata": {
    "collapsed": true
   },
   "outputs": [],
   "source": [
    "def laplas(array):\n",
    "    smooth_const = 1.\n",
    "    return (array + smooth_const) / np.sum(array + smooth_const)"
   ]
  },
  {
   "cell_type": "code",
   "execution_count": 206,
   "metadata": {},
   "outputs": [
    {
     "data": {
      "text/plain": [
       "array([ 0.1748777 ,  0.1748777 ,  0.47536689,  0.1748777 ])"
      ]
     },
     "execution_count": 206,
     "metadata": {},
     "output_type": "execute_result"
    }
   ],
   "source": [
    "softmax(make_onehot(2,4))"
   ]
  },
  {
   "cell_type": "code",
   "execution_count": 207,
   "metadata": {},
   "outputs": [
    {
     "data": {
      "text/plain": [
       "array([ 0.2,  0.2,  0.4,  0.2])"
      ]
     },
     "execution_count": 207,
     "metadata": {},
     "output_type": "execute_result"
    }
   ],
   "source": [
    "laplas(make_onehot(2,4))"
   ]
  },
  {
   "cell_type": "code",
   "execution_count": 373,
   "metadata": {
    "collapsed": true
   },
   "outputs": [],
   "source": [
    "policy = np.zeros((16 , 4)) + 0.25"
   ]
  },
  {
   "cell_type": "code",
   "execution_count": 406,
   "metadata": {
    "scrolled": true
   },
   "outputs": [
    {
     "name": "stdout",
     "output_type": "stream",
     "text": [
      "Агентов выжило:  204\n"
     ]
    }
   ],
   "source": [
    "elite_sessions = []\n",
    "elite_rewards = []\n",
    "for _ in range(2000):\n",
    "    session = np.zeros((16, 4), dtype=np.int)\n",
    "    obs = env.reset()\n",
    "    #env.render()\n",
    "    done = False\n",
    "    steps = 0\n",
    "    while not done:\n",
    "        steps += 1\n",
    "        direction = random_step(obs, policy)\n",
    "        session[obs] = make_onehot(direction, 4)\n",
    "        obs, reward, done, info = env.step(direction)\n",
    "        \n",
    "        if obs + 1 == n_states:\n",
    "            elite_sessions.append(session)\n",
    "            elite_rewards.append(-steps)\n",
    "        #clear_output()\n",
    "        #env.render()                               \n",
    "        #time.sleep(1)\n",
    "print('Агентов выжило: ', len(elite_sessions))"
   ]
  },
  {
   "cell_type": "code",
   "execution_count": 407,
   "metadata": {},
   "outputs": [
    {
     "name": "stdout",
     "output_type": "stream",
     "text": [
      "[[81  0  0  0]\n",
      " [ 0  0  0  0]\n",
      " [ 0  0  0  0]\n",
      " [ 0  0  0  0]\n",
      " [81  0  0  0]\n",
      " [ 0  0  0  0]\n",
      " [ 0  0  0  0]\n",
      " [ 0  0  0  0]\n",
      " [ 0 81  0  0]\n",
      " [ 0  0 81  0]\n",
      " [ 0 52  0  0]\n",
      " [ 0  0  0  0]\n",
      " [ 0  0  0  0]\n",
      " [ 0  0 72  0]\n",
      " [ 0  0  0 81]\n",
      " [ 0  0  0  0]]\n",
      "[[  1.00000000e+00   6.63967720e-36   6.63967720e-36   6.63967720e-36]\n",
      " [  2.50000000e-01   2.50000000e-01   2.50000000e-01   2.50000000e-01]\n",
      " [  2.50000000e-01   2.50000000e-01   2.50000000e-01   2.50000000e-01]\n",
      " [  2.50000000e-01   2.50000000e-01   2.50000000e-01   2.50000000e-01]\n",
      " [  1.00000000e+00   6.63967720e-36   6.63967720e-36   6.63967720e-36]\n",
      " [  2.50000000e-01   2.50000000e-01   2.50000000e-01   2.50000000e-01]\n",
      " [  2.50000000e-01   2.50000000e-01   2.50000000e-01   2.50000000e-01]\n",
      " [  2.50000000e-01   2.50000000e-01   2.50000000e-01   2.50000000e-01]\n",
      " [  6.63967720e-36   1.00000000e+00   6.63967720e-36   6.63967720e-36]\n",
      " [  6.63967720e-36   6.63967720e-36   1.00000000e+00   6.63967720e-36]\n",
      " [  2.61027907e-23   1.00000000e+00   2.61027907e-23   2.61027907e-23]\n",
      " [  2.50000000e-01   2.50000000e-01   2.50000000e-01   2.50000000e-01]\n",
      " [  2.50000000e-01   2.50000000e-01   2.50000000e-01   2.50000000e-01]\n",
      " [  5.38018616e-32   5.38018616e-32   1.00000000e+00   5.38018616e-32]\n",
      " [  6.63967720e-36   6.63967720e-36   6.63967720e-36   1.00000000e+00]\n",
      " [  2.50000000e-01   2.50000000e-01   2.50000000e-01   2.50000000e-01]]\n"
     ]
    }
   ],
   "source": [
    "res = (np.array(elite_sessions)[np.argsort(elite_rewards)])[:int(len(elite_sessions)*0.4)]\n",
    "#res = np.array(elite_sessions)\n",
    "res = np.sum(res, axis=0)\n",
    "print(res)\n",
    "res = np.apply_along_axis(softmax, 1, res)\n",
    "print(res)\n",
    "policy = res"
   ]
  },
  {
   "cell_type": "code",
   "execution_count": 241,
   "metadata": {},
   "outputs": [
    {
     "data": {
      "text/plain": [
       "(1, 0.0, False, {'prob': 0.3333333333333333})"
      ]
     },
     "execution_count": 241,
     "metadata": {},
     "output_type": "execute_result"
    }
   ],
   "source": [
    "#env.reset()\n",
    "#env.step(2)"
   ]
  },
  {
   "cell_type": "code",
   "execution_count": null,
   "metadata": {
    "collapsed": true
   },
   "outputs": [],
   "source": []
  }
 ],
 "metadata": {
  "kernelspec": {
   "display_name": "Python 3",
   "language": "python",
   "name": "python3"
  },
  "language_info": {
   "codemirror_mode": {
    "name": "ipython",
    "version": 3
   },
   "file_extension": ".py",
   "mimetype": "text/x-python",
   "name": "python",
   "nbconvert_exporter": "python",
   "pygments_lexer": "ipython3",
   "version": "3.6.2"
  }
 },
 "nbformat": 4,
 "nbformat_minor": 2
}
