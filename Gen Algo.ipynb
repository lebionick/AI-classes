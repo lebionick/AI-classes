{
 "cells": [
  {
   "cell_type": "code",
   "execution_count": null,
   "metadata": {
    "collapsed": true
   },
   "outputs": [],
   "source": [
    "'''\n",
    "В модели генитор (Genitor) используется специфичный способ отбора.\n",
    "Вначале, как и полагается, популяция инициализируется, и ее особи оцениваются.\n",
    "Затем выбираются случайным образом две особи, скрещиваются, причем получается только один потомок,\n",
    "который оценивается и занимает место менее приспособленной особи в популяции (а не одного из родителей!).\n",
    "После этого снова случайным образом выбираются две особи, и их потомок занимает место\n",
    "родительской особи с самой низкой приспособленностью. Таким образом, на каждом шаге в популяции\n",
    "обновляется лишь одна особь. Процесс продолжается до тех пор, пока пригодности хромосом не станут одинаковыми. \n",
    "В данный алгоритм можно добавить мутацию потомка после его создания. \n",
    "Критерий окончания процесса, как и вид кроссинговера и мутации, можно выбирать разными способами.''';"
   ]
  },
  {
   "cell_type": "code",
   "execution_count": null,
   "metadata": {
    "collapsed": true
   },
   "outputs": [],
   "source": [
    "# МЫ МАКСИМИЗИРУЕМ"
   ]
  },
  {
   "cell_type": "code",
   "execution_count": 1,
   "metadata": {
    "collapsed": true
   },
   "outputs": [],
   "source": [
    "from random import sample\n",
    "import numpy as np"
   ]
  },
  {
   "cell_type": "code",
   "execution_count": 192,
   "metadata": {},
   "outputs": [
    {
     "data": {
      "text/plain": [
       "30.482315354707417"
      ]
     },
     "execution_count": 192,
     "metadata": {},
     "output_type": "execute_result"
    }
   ],
   "source": [
    "np.log2(10**PRECISION * 15)"
   ]
  },
  {
   "cell_type": "code",
   "execution_count": 194,
   "metadata": {
    "collapsed": true
   },
   "outputs": [],
   "source": [
    "# num of symbols after point\n",
    "PRECISION = 8\n",
    "BITS = 40\n",
    "BITS_CODE = '0{0}b'.format(BITS)"
   ]
  },
  {
   "cell_type": "code",
   "execution_count": 195,
   "metadata": {
    "collapsed": true
   },
   "outputs": [],
   "source": [
    "def square_func(vector):\n",
    "    return -np.sum(vector ** 2)\n",
    "\n",
    "def rastrigin_func(vector):\n",
    "    return -np.sum(vector**2 - 10 * np.cos(2*np.pi*vector))\n",
    "\n",
    "def eggholder(vector):\n",
    "    assert len(vector) == 2, 'Not appropriate dim, use 2'\n",
    "    x, y = vector[0], vector[1]\n",
    "    if abs(x) > 512. or abs(y) > 512.:\n",
    "        return -1000\n",
    "    return (y+47)*np.sin(abs(x*0.5 + y + 47)**0.5) + x*np.sin(abs(x-y-47)**0.5)\n",
    "\n",
    "def bukin(vector):\n",
    "    assert len(vector) == 2, 'Not appropriate dim, use 2'\n",
    "    x, y = vector[0], vector[1]\n",
    "    if x < -15 or x > -5 or abs(y) > 3:\n",
    "        return -100.\n",
    "    return -(100 * (abs(y - 0.01*x*x)**0.5) + 0.01*abs(x + 10))"
   ]
  },
  {
   "cell_type": "code",
   "execution_count": 223,
   "metadata": {
    "collapsed": true
   },
   "outputs": [],
   "source": [
    "FUNCTION = bukin#eggholder#rastrigin_func\n",
    "MAX_ITER = 10000\n",
    "RANGE = 15.\n",
    "BITS = int(np.log2(10**PRECISION * 15)) + 1"
   ]
  },
  {
   "cell_type": "code",
   "execution_count": 227,
   "metadata": {
    "scrolled": false
   },
   "outputs": [
    {
     "name": "stdout",
     "output_type": "stream",
     "text": [
      "[array([-9.93596453,  0.98724471]), array([-9.93594402,  0.9872447 ]), array([-9.93600546,  0.98722422]), array([-9.93756198,  0.98760312]), array([-9.94027556,  0.98814584]), array([-9.93918499,  0.98781815]), array([-9.93877028,  0.98768503]), array([-9.93932324,  0.98771575]), array([-9.93728036,  0.98728567]), array([-9.93909795,  0.98761335]), array([-9.93625126,  0.98754168]), array([-9.93436706,  0.98726518]), array([-9.98054948,  0.9957439 ]), array([-9.93604644,  0.98772599]), array([-9.93859109,  0.98726519]), array([-9.93882146,  0.98722422]), array([-10.02307108,   1.00350584]), array([-9.92810532,  0.98729591]), array([-9.92918563,  0.98770551]), array([-9.75910434,  0.95016567]), array([-9.92844835,  0.98843255]), array([-9.74090787,  0.95155831]), array([-9.93597476,  0.9905215 ]), array([-9.59919136,  0.91724407]), array([-9.59918112,  0.91720311]), array([-9.93660965,  0.99283575]), array([-9.97077025,  0.98749047]), array([-9.93637922,  0.97980023]), array([-9.98112804,  0.98793079]), array([-9.93856549,  0.99773047]), array([-9.9386679 ,  0.99798648]), array([-9.91490083,  0.99826295]), array([-10.01919525,   0.98593399]), array([-9.81277732,  0.98984566]), array([-9.77126436,  0.98742903]), array([-9.76870435,  0.98767479]), array([-9.76082979,  0.98728567]), array([-9.93602594,  0.94503542]), array([-9.76855585,  0.91107958]), array([-9.76118304,  0.90622583]), array([-9.43629857,  0.9687615 ]), array([-9.604424  ,  1.00108919]), array([-9.93663012,  0.90866295]), array([-9.93895974,  1.07158136]), array([-9.96729382,  0.90249848]), array([-10.00777764,   0.90393208]), array([-9.9358826 ,  0.86185591]), array([-9.7609271,  0.820046 ]), array([-9.76867872,  0.81947254]), array([-9.76925733,  0.81947255]), array([-10.4332906 ,   0.94583416]), array([-10.58091555,   0.96591479]), array([-10.43035682,   0.90338935]), array([-9.93014819,  0.79926903]), array([-9.98085667,  0.80919159]), array([-8.59505702,  0.94779   ]), array([-10.60058657,   0.90822263]), array([-8.63869987,  0.97696375]), array([-8.63580707,  0.97679991]), array([-8.59604004,  0.98743927]), array([-8.59749411,  0.99809911]), array([-9.93241125,  1.24870263]), array([-9.93244709,  1.24878455]), array([-9.93203237,  1.25008503]), array([-9.92392741,  1.24873334]), array([-7.29739812,  0.8202508 ]), array([-10.02302496,   1.33913206]), array([-10.60951074,   0.76728951]), array([-5.95005476,  0.79870583]), array([-8.63629859,  0.27556471]), array([-7.08435494,  0.98785912]), array([-6.91763748,  0.99060344]), array([-9.60046626,  0.29986424]), array([-9.91811619,  0.31650423]), array([-9.79967011,  0.27503223]), array([-10.10737184,   0.31405686]), array([  -9.93649185, 5498.4194111 ]), array([-20.34105892,   0.88299126]), array([ -9.97055523, 344.54305399]), array([  -9.93652769, 1375.33469302]), array([  -9.93801252, 1375.21472119]), array([  -9.91427105, 5498.39145591]), array([-9.75901731,  7.70063991]), array([  -9.98110756, 5498.44121207]), array([ -9.74364191, 688.39235191]), array([-6.97135043e+02,  3.17057200e-01]), array([-695.78982438, 1031.73994104]), array([-9.76952866,  6.35598455]), array([-9.93705507,  3.56763255]), array([-439.09787682,    0.987982  ]), array([-694.26863654,    1.23951736]), array([-1.38433772e+03,  1.23878007e+00]), array([-95.83820324,   0.98988663]), array([-31.41352996,   0.74943096]), array([-353.53341988,  688.18732663]), array([-178.70495779,    0.98514551]), array([ -9.94014243, 172.78577271]), array([-8.55472676, 22.46523512]), array([-1384.31345701,    11.72990583]), array([-2.75871936e+03,  9.90603440e-01])]\n",
      "[-0.32925237241803695, -0.3861832197253405, -0.4228367182236876, -0.7199222085356143, -0.7426074375032451, -0.7478206661413914, -1.0326819950055428, -1.3633785461490846, -1.4488658936368541, -1.5605147770832253, -1.584269330613589, -1.8679837561506774, -1.9231589543845469, -2.1819268198275537, -2.2158760200548295, -2.4037350397615005, -3.337443241226369, -4.029561894690688, -4.264787469902861, -4.730521888910884, -5.188859321198034, -5.203983697971201, -5.732616950214995, -6.485271588979326, -6.5152843660518664, -7.399036863104794, -8.168599210716799, -8.67017485554701, -9.109732895211835, -9.990424158009604, -10.107682003410265, -12.333881970600913, -13.382547715304055, -16.415181667901788, -18.072416871690685, -18.277690715362006, -18.589400096805516, -20.545881234320394, -20.779045162595732, -21.58504634783109, -27.99209677221858, -28.046706388681223, -28.05472990896373, -28.94057461587976, -30.161723074269645, -31.244925818411637, -35.40709827010431, -36.43190877620233, -36.717201112098905, -36.732586189266904, -37.78016743556183, -39.203123956684806, -42.96173411580202, -43.22215161185921, -43.24176965043206, -45.73493614796056, -46.428169352621175, -48.044061214971705, -48.07904242668274, -49.865842606830135, -50.89919581474528, -51.20367361309557, -51.210977036072734, -51.345821609371114, -51.37098435890622, -53.667552375483396, -57.838086927745486, -59.866572170463364, -66.72440407188171, -68.59146312111217, -69.74129820804251, -71.58963558801787, -78.85989455197897, -81.68227680644193, -82.785039764608, -84.11604236966028, -100.0, -100.0, -100.0, -100.0, -100.0, -100.0, -100.0, -100.0, -100.0, -100.0, -100.0, -100.0, -100.0, -100.0, -100.0, -100.0, -100.0, -100.0, -100.0, -100.0, -100.0, -100.0, -100.0, -100.0]\n"
     ]
    }
   ],
   "source": [
    "POPULATION_LENGTH = 100\n",
    "population = generate_population(POPULATION_LENGTH, 2, range_=RANGE)\n",
    "#print(list(map(lambda x:x.features, population)))\n",
    "\n",
    "for iter_num in range(MAX_ITER):\n",
    "    sp1, sp2 = sample(population, 2)\n",
    "    child = sp1.cross_over(sp2).mutate(iter_num, 1)\n",
    "    population.sort(key=lambda x: -x.assess(FUNCTION))\n",
    "    if population[POPULATION_LENGTH - 1].assess(FUNCTION) < child.assess(FUNCTION):\n",
    "        population[POPULATION_LENGTH - 1] = child\n",
    "\n",
    "    idsp1, idsp2 = sample(range(0, POPULATION_LENGTH), 2)\n",
    "    sp1 = population[idsp1]\n",
    "    sp2 = population[idsp2]\n",
    "    child = sp1.cross_over(sp2).mutate(iter_num, 1)\n",
    "#     if child.assess(FUNCTION) < sp1.assess(FUNCTION) and child.assess(FUNCTION) < sp2.assess(FUNCTION):\n",
    "#         continue\n",
    "    if sp1.assess(FUNCTION) < sp2.assess(FUNCTION):\n",
    "        population[idsp1] = child\n",
    "    else:\n",
    "        population[idsp2] = child\n",
    "        \n",
    "population.sort(key=lambda x: -x.assess(FUNCTION))\n",
    "#print(population[0].features)\n",
    "print(list(map(lambda x:x.features, population)))\n",
    "print(list(map(lambda x:x.assess(FUNCTION), population)))"
   ]
  },
  {
   "cell_type": "code",
   "execution_count": 208,
   "metadata": {
    "collapsed": true
   },
   "outputs": [],
   "source": [
    "def generate_population(num_species, n_dim, range_= 50.):\n",
    "    population = []\n",
    "    for _ in range(num_species):\n",
    "        population.append(Species(n_dim, range_))\n",
    "    return population"
   ]
  },
  {
   "cell_type": "code",
   "execution_count": 6,
   "metadata": {
    "collapsed": true
   },
   "outputs": [],
   "source": [
    "def invert(bit):\n",
    "    return '0' if bit == '1' else '1'"
   ]
  },
  {
   "cell_type": "code",
   "execution_count": 7,
   "metadata": {
    "collapsed": true
   },
   "outputs": [],
   "source": [
    "def generate_vector(n_dim, range_):\n",
    "    return np.clip(np.random.randn(n_dim) * range_ * 0.5, -range_, range_)"
   ]
  },
  {
   "cell_type": "code",
   "execution_count": 8,
   "metadata": {
    "collapsed": true
   },
   "outputs": [],
   "source": [
    "def decimal2binary(vector):\n",
    "    return list(map(lambda x: format(int(x * 10 ** PRECISION), BITS_CODE), list(vector)))"
   ]
  },
  {
   "cell_type": "code",
   "execution_count": 9,
   "metadata": {
    "collapsed": true
   },
   "outputs": [],
   "source": [
    "def binary2decimal(vector):\n",
    "    return np.array(list(map(lambda x: int(x, 2) / (10 ** PRECISION), vector)))"
   ]
  },
  {
   "cell_type": "code",
   "execution_count": 167,
   "metadata": {
    "collapsed": true
   },
   "outputs": [],
   "source": [
    "class Species:\n",
    "    def __init__(self, n_dim=1, range_=50., features=[]):\n",
    "        if len(features) == 0:\n",
    "            self.features = generate_vector(n_dim, range_)\n",
    "        else:\n",
    "            self.features = features\n",
    "    \n",
    "    def mutate(self, decay=0, rate=1):\n",
    "        genetic_code = decimal2binary(self.features)\n",
    "        min_boundary = 0#BITS-35# min(BITS-PRECISION, round((BITS-1)*decay/MAX_ITER))\n",
    "        for _ in range(rate):\n",
    "            for i, feature in enumerate(genetic_code):\n",
    "                chromosome = np.random.randint(min_boundary, BITS-1)\n",
    "                if feature[0] == '-':\n",
    "                    chromosome += 1\n",
    "                bit = feature[chromosome]\n",
    "                mutated = feature[:chromosome] + invert(bit) + feature[chromosome + 1:]\n",
    "                genetic_code[i] = mutated\n",
    "            self.features = binary2decimal(genetic_code)\n",
    "        return self\n",
    "        \n",
    "    def cross_over(self, partner):\n",
    "        gens1 = decimal2binary(self.features)\n",
    "        gens2 = decimal2binary(partner.features)\n",
    "        child_gens = []\n",
    "        for i, feature in enumerate(gens1):\n",
    "            chromosome_start = np.random.randint(0, BITS - 1)\n",
    "            chromosome_end = np.random.randint(chromosome_start + 1, BITS)\n",
    "            \n",
    "            if feature[0] == '-':\n",
    "                chromosome_start += 1\n",
    "                chromosome_end += 1\n",
    "            \n",
    "            child_gens.append(feature[:chromosome_start] + gens2[i][chromosome_start:chromosome_end] \n",
    "                              + feature[chromosome_end:])\n",
    "        return Species(features = binary2decimal(child_gens))\n",
    "    \n",
    "    def assess(self, function):\n",
    "        return function(self.features)"
   ]
  },
  {
   "cell_type": "code",
   "execution_count": null,
   "metadata": {
    "collapsed": true
   },
   "outputs": [],
   "source": []
  },
  {
   "cell_type": "code",
   "execution_count": null,
   "metadata": {
    "collapsed": true
   },
   "outputs": [],
   "source": []
  },
  {
   "cell_type": "code",
   "execution_count": null,
   "metadata": {
    "collapsed": true
   },
   "outputs": [],
   "source": []
  }
 ],
 "metadata": {
  "kernelspec": {
   "display_name": "Python 3",
   "language": "python",
   "name": "python3"
  },
  "language_info": {
   "codemirror_mode": {
    "name": "ipython",
    "version": 3
   },
   "file_extension": ".py",
   "mimetype": "text/x-python",
   "name": "python",
   "nbconvert_exporter": "python",
   "pygments_lexer": "ipython3",
   "version": "3.6.2"
  }
 },
 "nbformat": 4,
 "nbformat_minor": 2
}
