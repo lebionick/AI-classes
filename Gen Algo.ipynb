{
 "cells": [
  {
   "cell_type": "code",
   "execution_count": 2,
   "metadata": {
    "collapsed": true
   },
   "outputs": [],
   "source": [
    "'''\n",
    "В модели генитор (Genitor) используется специфичный способ отбора.\n",
    "Вначале, как и полагается, популяция инициализируется, и ее особи оцениваются.\n",
    "Затем выбираются случайным образом две особи, скрещиваются, причем получается только один потомок,\n",
    "который оценивается и занимает место менее приспособленной особи в популяции (а не одного из родителей!).\n",
    "После этого снова случайным образом выбираются две особи, и их потомок занимает место\n",
    "родительской особи с самой низкой приспособленностью. Таким образом, на каждом шаге в популяции\n",
    "обновляется лишь одна особь. Процесс продолжается до тех пор, пока пригодности хромосом не станут одинаковыми. \n",
    "В данный алгоритм можно добавить мутацию потомка после его создания. \n",
    "Критерий окончания процесса, как и вид кроссинговера и мутации, можно выбирать разными способами.''';"
   ]
  },
  {
   "cell_type": "code",
   "execution_count": 261,
   "metadata": {
    "collapsed": true
   },
   "outputs": [],
   "source": [
    "# МЫ МАКСИМИЗИРУЕМ"
   ]
  },
  {
   "cell_type": "code",
   "execution_count": 288,
   "metadata": {
    "collapsed": true
   },
   "outputs": [],
   "source": [
    "from random import sample\n",
    "import numpy as np"
   ]
  },
  {
   "cell_type": "code",
   "execution_count": 289,
   "metadata": {
    "collapsed": true
   },
   "outputs": [],
   "source": [
    "# num of symbols after point\n",
    "PRECISION = 8\n",
    "BITS = 64\n",
    "BITS_CODE = '0{0}b'.format(BITS)"
   ]
  },
  {
   "cell_type": "code",
   "execution_count": 343,
   "metadata": {
    "collapsed": true
   },
   "outputs": [],
   "source": [
    "def square_func(vector):\n",
    "    return -np.sum(vector ** 2)\n",
    "\n",
    "def rastrigin_func(vector):\n",
    "    return np.sum(vector**2 - 10 * np.cos(2*np.pi*vector))"
   ]
  },
  {
   "cell_type": "code",
   "execution_count": 347,
   "metadata": {
    "collapsed": true
   },
   "outputs": [],
   "source": [
    "FUNCTION = square_func"
   ]
  },
  {
   "cell_type": "code",
   "execution_count": 348,
   "metadata": {},
   "outputs": [
    {
     "name": "stdout",
     "output_type": "stream",
     "text": [
      "[array([-0.00057728, -0.04194952]), array([-0.00058261, -0.04194992]), array([-0.0002651 , -0.04196375]), array([-0.00030399, -0.04196369]), array([-0.00026094, -0.04196406]), array([-0.00030438, -0.04196968]), array([-0.00076791, -0.04197048]), array([-0.00011881, -0.0419857 ]), array([-0.00110907, -0.04198576]), array([-0.00119722, -0.04198562]), array([-0.00119725, -0.04198566]), array([-0.00091533, -0.04199279]), array([-0.00095629, -0.04199295]), array([-0.00105264, -0.0419916 ]), array([-0.00107661, -0.04199215]), array([-0.00094734, -0.04200727]), array([-0.00122766, -0.04200471]), array([-0.00059278, -0.04203426]), array([-0.00032678, -0.0420516 ]), array([-0.00232518, -0.04198947]), array([-0.00025999, -0.04205501]), array([-0.00250793, -0.04198578]), array([-0.00028934, -0.04207009]), array([-0.00029442, -0.04207404]), array([-0.0002625, -0.042075 ]), array([-0.00026506, -0.04207532]), array([-0.00091589, -0.04206741]), array([-0.00012571, -0.04207984]), array([-0.00110887, -0.04206757]), array([-0.00092145, -0.04207288]), array([-0.00109709, -0.04207471]), array([-0.00094907, -0.04208112]), array([-0.00024969, -0.04209487]), array([-0.0023755 , -0.04202967]), array([-0.00029545, -0.04210008]), array([-0.0011969, -0.0420856]), array([-0.00090499, -0.04209315]), array([-0.00112935, -0.04209063]), array([-0.00029413, -0.04211332]), array([-0.00095799, -0.04210544]), array([-0.00095922, -0.04210658]), array([-0.00095927, -0.04210672]), array([-0.00124814, -0.04210562]), array([-0.00096837, -0.04211472]), array([-0.0010547 , -0.04211332]), array([-0.00156013, -0.04209982]), array([-0.00160105, -0.04209944]), array([-9.270000e-05, -4.213554e-02]), array([-0.00029033, -0.04213528]), array([-0.00223973, -0.04207704]), array([-0.00105438, -0.04212356]), array([-0.00224906, -0.04208178]), array([-0.00224997, -0.04208216]), array([-0.00357617, -0.04199032]), array([-0.00357873, -0.0419916 ]), array([-0.00235662, -0.04208343]), array([-0.0012483 , -0.04213496]), array([-0.00090638, -0.04214768]), array([-8.45800e-05, -4.21588e-02]), array([-0.00098837, -0.04214772]), array([-0.00272315, -0.04208096]), array([-0.00218359, -0.04211449]), array([-0.0022157, -0.0421134]), array([-0.00149384, -0.04214688]), array([-0.00226551, -0.04211448]), array([-0.00142279, -0.0421582 ]), array([-0.00142327, -0.04215886]), array([-0.00237038, -0.04211671]), array([-0.00018312, -0.04218784]), array([-0.00439519, -0.04196625]), array([-0.00340841, -0.0420796 ]), array([-0.00124058, -0.04221744]), array([-9.700000e-06, -4.224328e-02]), array([-0.00289033, -0.04216074]), array([-0.00094902, -0.04224937]), array([-0.00134117, -0.04224088]), array([-0.00021356, -0.04226395]), array([-0.00253929, -0.04219524]), array([-0.0036761 , -0.04211434]), array([-0.00128218, -0.0422584 ]), array([-0.00225974, -0.04223907]), array([-0.00157486, -0.04201495]), array([-0.00438862, -0.04208342]), array([-0.00253433, -0.04223823]), array([-0.00253929, -0.04223882]), array([-0.00253177, -0.04223951]), array([-0.00253921, -0.04223914]), array([-0.00253888, -0.04223916]), array([-0.00054184, -0.04231346]), array([-0.00550798, -0.04196402]), array([-0.00389878, -0.04214709]), array([-0.00253322, -0.04225584]), array([-0.00271138, -0.04224958]), array([-0.00253182, -0.04229736]), array([-0.00386194, -0.04220846]), array([-0.0054977 , -0.04207592]), array([-0.00436106, -0.04223908]), array([-0.00451653, -0.0422584 ]), array([-0.00065814, -0.04249524]), array([-0.00149376, -0.04247456])]\n",
      "[-0.0017600954804287998, -0.0017601352224185002, -0.0017610265920725001, -0.0017610436883361998, -0.0017610504213671997, -0.0017615466864868002, -0.0017621108771984997, -0.0017628131203061002, -0.0017640340790424998, -0.0017642256225128001, -0.0017642290531981, -0.0017642322409930002, -0.0017643223402666, -0.0017644025215295997, -0.0017644997507145997, -0.0017655081859284999, -0.0017659028112597, -0.0017672304018759998, -0.0017684438477284002, -0.0017685220529133, -0.0017686914609002, -0.0017690954350933, -0.0017699761902436996, -0.001770311525058, -0.00177037453125, -0.001770402809906, -0.0017705058386002, -0.0017707287374297, -0.0017709100383817998, -0.0017709763015969, -0.0017714848280522002, -0.0017717213943192998, -0.001772040425413, -0.0017721361605588998, -0.0017725040267089, -0.00177263029697, -0.0017726522838226004, -0.0017728965652193996, -0.0017736182338793003, -0.0017737858224337, -0.0017738841823047998, -0.0017738960680913, -0.0017744410890440003, -0.0017745873811353, -0.0017746441135124001, -0.0017748288496493001, -0.0017749262094161002, -0.0017754123243815998, -0.0017754661121872997, -0.0017754936856345003, -0.0017755060242579997, -0.0017759344788519998, -0.0017759705552665, -0.0017759759655713, -0.0017761017789728996, -0.0017765687383892999, -0.0017769131070915999, -0.0017772484540868, -0.0017773715712164004, -0.0017774071764553, -0.0017782227404441, -0.0017783983332482, -0.00177844778605, -0.0017785910516799998, -0.0017787619612305004, -0.0017793381586241, -0.0017793951739925, -0.0017794359625685002, -0.0017798473767999996, -0.0017804838341985998, -0.0017823099948881, -0.0017838512788900002, -0.0017844947992484, -0.0017858820048565003, -0.0017859099043573002, -0.0017860906801433001, -0.0017862870774761, -0.0017868862723617002, -0.0017871313448456, -0.0017874163561124002, -0.0017892454593324998, -0.0017677362075221002, -0.0017902742244008004, -0.0017904909020818002, -0.0017905659086965002, -0.001790586064373, -0.0017905925353637001, -0.00179059254916, -0.0017907224877571997, -0.0017913168182407998, -0.0017915776809564999, -0.0017919732176740002, -0.0017923785916808001, -0.001795476775482, -0.0017964686761352002, -0.0018006077491364001, -0.0018031587235699997, -0.0018061714138009, -0.0018062785709171995, -0.0018063195661312]\n"
     ]
    }
   ],
   "source": [
    "POPULATION_LENGTH = 100\n",
    "population = generate_population(POPULATION_LENGTH, 2, range_=6.)\n",
    "#print(list(map(lambda x:x.features, population)))\n",
    "\n",
    "for _ in range(1000):\n",
    "    sp1, sp2 = sample(population, 2)\n",
    "    child = sp1.cross_over(sp2).mutate()\n",
    "    population.sort(key=lambda x: -x.assess(FUNCTION))\n",
    "    if population[POPULATION_LENGTH - 1].assess(FUNCTION) < child.assess(FUNCTION):\n",
    "        population[POPULATION_LENGTH - 1] = child\n",
    "\n",
    "    idsp1, idsp2 = sample(range(0, POPULATION_LENGTH), 2)\n",
    "    sp1 = population[idsp1]\n",
    "    sp2 = population[idsp2]\n",
    "    child = sp1.cross_over(sp2).mutate()\n",
    "    if sp1.assess(FUNCTION) < sp2.assess(FUNCTION):\n",
    "        population[idsp1] = child\n",
    "    else:\n",
    "        population[idsp2] = child\n",
    "print(list(map(lambda x:x.features, population)))\n",
    "print(list(map(lambda x:x.assess(FUNCTION), population)))"
   ]
  },
  {
   "cell_type": "code",
   "execution_count": 297,
   "metadata": {
    "collapsed": true
   },
   "outputs": [],
   "source": [
    "def generate_population(num_species, n_dim, range_= 50.):\n",
    "    population = []\n",
    "    for _ in range(num_species):\n",
    "        population.append(Species(n_dim, range_))\n",
    "    return population"
   ]
  },
  {
   "cell_type": "code",
   "execution_count": 264,
   "metadata": {
    "collapsed": true
   },
   "outputs": [],
   "source": [
    "def invert(bit):\n",
    "    return '0' if bit == '1' else '1'"
   ]
  },
  {
   "cell_type": "code",
   "execution_count": 265,
   "metadata": {
    "collapsed": true
   },
   "outputs": [],
   "source": [
    "def generate_vector(n_dim, range_):\n",
    "    return np.random.randn(n_dim) * range_ * 0.5"
   ]
  },
  {
   "cell_type": "code",
   "execution_count": 266,
   "metadata": {
    "collapsed": true
   },
   "outputs": [],
   "source": [
    "def decimal2binary(vector):\n",
    "    return list(map(lambda x: format(int(x * 10 ** PRECISION), BITS_CODE), list(vector)))"
   ]
  },
  {
   "cell_type": "code",
   "execution_count": 267,
   "metadata": {
    "collapsed": true
   },
   "outputs": [],
   "source": [
    "def binary2decimal(vector):\n",
    "    return np.array(list(map(lambda x: int(x, 2) / (10 ** PRECISION), vector)))"
   ]
  },
  {
   "cell_type": "code",
   "execution_count": 339,
   "metadata": {},
   "outputs": [],
   "source": [
    "class Species:\n",
    "    def __init__(self, n_dim=1, range_=50., features=[]):\n",
    "        if len(features) == 0:\n",
    "            self.features = generate_vector(n_dim, range_)\n",
    "        else:\n",
    "            self.features = features\n",
    "    \n",
    "    def mutate(self, rate=1):\n",
    "        genetic_code = decimal2binary(self.features)\n",
    "        for i, feature in enumerate(genetic_code):\n",
    "            chromosome = np.random.randint(BITS*2//3, BITS-1)\n",
    "            if feature[0] == '-':\n",
    "                chromosome += 1\n",
    "            bit = feature[chromosome]\n",
    "            mutated = feature[:chromosome] + invert(bit) + feature[chromosome + 1:]\n",
    "            genetic_code[i] = mutated\n",
    "        self.features = binary2decimal(genetic_code)\n",
    "        return self\n",
    "        \n",
    "    def cross_over(self, partner):\n",
    "        gens1 = decimal2binary(self.features)\n",
    "        gens2 = decimal2binary(partner.features)\n",
    "        child_gens = []\n",
    "        for i, feature in enumerate(gens1):\n",
    "            chromosome = np.random.randint(BITS//2, BITS)\n",
    "            if feature[0] == '-':\n",
    "                chromosome += 1\n",
    "            child_gens.append(feature[:chromosome] + gens2[i][chromosome:])\n",
    "        return Species(features = binary2decimal(child_gens))\n",
    "    \n",
    "    def assess(self, function):\n",
    "        return function(self.features)"
   ]
  },
  {
   "cell_type": "code",
   "execution_count": 269,
   "metadata": {
    "collapsed": true
   },
   "outputs": [],
   "source": [
    "a = Species(2, 10.)\n",
    "b = Species(2, 10.)"
   ]
  },
  {
   "cell_type": "code",
   "execution_count": 281,
   "metadata": {},
   "outputs": [
    {
     "name": "stdout",
     "output_type": "stream",
     "text": [
      "[-4.64577979  0.0955415 ]\n",
      "[-3.16795867 -3.24623143]\n"
     ]
    }
   ],
   "source": [
    "print(a.features)\n",
    "print(b.features)"
   ]
  },
  {
   "cell_type": "code",
   "execution_count": 282,
   "metadata": {},
   "outputs": [
    {
     "data": {
      "text/plain": [
       "array([-4.64577947,  0.09554406])"
      ]
     },
     "execution_count": 282,
     "metadata": {},
     "output_type": "execute_result"
    }
   ],
   "source": [
    "a.mutate()\n",
    "a.features"
   ]
  },
  {
   "cell_type": "code",
   "execution_count": 283,
   "metadata": {},
   "outputs": [],
   "source": [
    "c = a.cross_over(b)"
   ]
  },
  {
   "cell_type": "code",
   "execution_count": 284,
   "metadata": {},
   "outputs": [
    {
     "name": "stdout",
     "output_type": "stream",
     "text": [
      "[-4.64645082  0.09526055]\n"
     ]
    }
   ],
   "source": [
    "print(c.features)"
   ]
  },
  {
   "cell_type": "code",
   "execution_count": 285,
   "metadata": {},
   "outputs": [
    {
     "name": "stdout",
     "output_type": "stream",
     "text": [
      "[-6.73293848  2.30164937]\n"
     ]
    }
   ],
   "source": [
    "vec = generate_vector(2, 50.)\n",
    "print(vec)"
   ]
  },
  {
   "cell_type": "code",
   "execution_count": 286,
   "metadata": {},
   "outputs": [
    {
     "name": "stdout",
     "output_type": "stream",
     "text": [
      "['-000000000000000000000000000000000101000001000011010011000011000', '0000000000000000000000000000000000001101101110000000100111001000']\n"
     ]
    }
   ],
   "source": [
    "vec_bin = decimal2binary(vec)\n",
    "print(vec_bin)"
   ]
  },
  {
   "cell_type": "code",
   "execution_count": 287,
   "metadata": {},
   "outputs": [
    {
     "data": {
      "text/plain": [
       "array([-6.73293848,  2.30164936])"
      ]
     },
     "execution_count": 287,
     "metadata": {},
     "output_type": "execute_result"
    }
   ],
   "source": [
    "binary2decimal(vec_bin)"
   ]
  },
  {
   "cell_type": "code",
   "execution_count": null,
   "metadata": {
    "collapsed": true
   },
   "outputs": [],
   "source": []
  }
 ],
 "metadata": {
  "kernelspec": {
   "display_name": "Python 3",
   "language": "python",
   "name": "python3"
  },
  "language_info": {
   "codemirror_mode": {
    "name": "ipython",
    "version": 3
   },
   "file_extension": ".py",
   "mimetype": "text/x-python",
   "name": "python",
   "nbconvert_exporter": "python",
   "pygments_lexer": "ipython3",
   "version": "3.6.2"
  }
 },
 "nbformat": 4,
 "nbformat_minor": 2
}
