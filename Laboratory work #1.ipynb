{
  "nbformat": 4,
  "nbformat_minor": 0,
  "metadata": {
    "colab": {
      "name": "AI_lab1.ipynb",
      "version": "0.3.2",
      "views": {},
      "default_view": {},
      "provenance": [],
      "collapsed_sections": []
    },
    "kernelspec": {
      "name": "python3",
      "display_name": "Python 3"
    }
  },
  "cells": [
    {
      "metadata": {
        "id": "TcxX_agjq6yF",
        "colab_type": "code",
        "colab": {
          "autoexec": {
            "startup": false,
            "wait_interval": 0
          },
          "base_uri": "https://localhost:8080/",
          "height": 130
        },
        "cellView": "both",
        "outputId": "dd004b71-3330-4141-f8c3-d637cf36f0b2",
        "executionInfo": {
          "status": "ok",
          "timestamp": 1521383537756,
          "user_tz": -180,
          "elapsed": 7422,
          "user": {
            "displayName": "Nikolay Maslovich",
            "photoUrl": "//lh4.googleusercontent.com/-naCdTJGg1m4/AAAAAAAAAAI/AAAAAAAAADA/MV7JyqexJHs/s50-c-k-no/photo.jpg",
            "userId": "106938169505381677378"
          }
        }
      },
      "cell_type": "code",
      "source": [
        "#@title Импорты\n",
        "!pip install graphviz\n",
        "!apt-get install graphviz -y"
      ],
      "execution_count": 173,
      "outputs": [
        {
          "output_type": "stream",
          "text": [
            "Requirement already satisfied: graphviz in /usr/local/lib/python3.6/dist-packages\n",
            "Reading package lists... Done\n",
            "Building dependency tree       \n",
            "Reading state information... Done\n",
            "graphviz is already the newest version (2.38.0-16ubuntu2).\n",
            "0 upgraded, 0 newly installed, 0 to remove and 0 not upgraded.\n"
          ],
          "name": "stdout"
        }
      ]
    },
    {
      "metadata": {
        "id": "KYKWrk7Nqp4J",
        "colab_type": "code",
        "colab": {
          "autoexec": {
            "startup": false,
            "wait_interval": 0
          }
        },
        "cellView": "both"
      },
      "cell_type": "code",
      "source": [
        "#@title Класс: Граф\n",
        "import graphviz as gv\n",
        "\n",
        "\n",
        "class DirectedGraph:\n",
        "    def __init__(self):\n",
        "        self.I, self.J, self.H, self.L = [], [], [], []\n",
        "        self.cost = []\n",
        "        self.free = -1\n",
        "        self.vertexLabels = []\n",
        "        self.vertexProps = []\n",
        "        self.edgeLabels = []\n",
        "        self.lol = 0\n",
        "        self.seen = None\n",
        "\n",
        "    def getVertexCount(self):\n",
        "        return len(self.H)\n",
        "\n",
        "    def addVertex(self, name, label=None):\n",
        "        self.H.append(-1)\n",
        "        self.vertexLabels.append(name)\n",
        "        self.vertexProps.append([label])\n",
        "\n",
        "    def addEdge(self, tail, head, label=None, cost=True):\n",
        "        \n",
        "        if self.getVertexCount() == 0:\n",
        "            raise Exception('The Graph is empty!')\n",
        "            \n",
        "        for i, val in enumerate(self.vertexLabels):\n",
        "            if tail == val:\n",
        "                tail = i\n",
        "        for i, val in enumerate(self.vertexLabels):\n",
        "            if head == val:\n",
        "                head = i\n",
        "\n",
        "        if tail > self.getVertexCount() - 1 or head > self.getVertexCount() - 1:\n",
        "            raise Exception('Egde parameters are incorrect!')\n",
        "            \n",
        "        if self.free == -1:\n",
        "            self.L.append(self.H[tail])\n",
        "            self.H[tail] = len(self.I)\n",
        "            self.I.append(tail)\n",
        "            self.J.append(head)\n",
        "            self.cost.append(cost)\n",
        "        else:\n",
        "            q = self.free\n",
        "            self.free = self.L[self.free]\n",
        "            self.L[q] = self.H[tail]\n",
        "            self.H[tail] = q\n",
        "            self.I[q] = tail\n",
        "            self.J[q] = head\n",
        "            self.cost[q] = cost\n",
        "        self.edgeLabels.append(label)\n",
        "\n",
        "    def removeEdgeByVertices(self, tail, head):\n",
        "        self.removeEdgeByIndex(self.indexOfEdge(tail, head))\n",
        "\n",
        "    def removeEdgeByIndex(self, index):\n",
        "        if index in self.H:\n",
        "            self.H[self.H.index(index)] = self.L[index]\n",
        "        else:\n",
        "            self.L[self.L.index(index)] = self.L[index]\n",
        "        self.I[index] = -1\n",
        "        self.J[index] = -1\n",
        "        self.L[index] = self.free\n",
        "        self.free = index\n",
        "\n",
        "    def indexOfEdge(self, tail, head):\n",
        "        for k, _ in enumerate(self.I):\n",
        "            if self.vertexLabels[self.I[k]] == tail and self.vertexLabels[self.J[k]] == head:\n",
        "                return k\n",
        "    \n",
        "    def weight(self, tail, head):\n",
        "        return self.edgeLabels[self.indexOfEdge(tail, head)]\n",
        "    \n",
        "    def power(self, index):\n",
        "        count = 0\n",
        "        q = self.H[index]\n",
        "        while q != -1:\n",
        "            count += 1\n",
        "            q = self.L[q]\n",
        "        return count\n",
        "    \n",
        "    \n",
        "    def get_all_conj_edges(self, vertex):\n",
        "        res = []\n",
        "        prev = self.H[vertex]\n",
        "        flag = prev == -1\n",
        "        while(not flag):\n",
        "          res.append(prev)\n",
        "          nextv = self.L[prev]\n",
        "          flag = nextv == -1\n",
        "          prev = nextv\n",
        "        return res\n",
        "      \n",
        "    def corresponding_edges(self, edge_list, label):\n",
        "        res = []\n",
        "        for edge in edge_list:\n",
        "          if self.edgeLabels[edge] == label:\n",
        "            res.append(edge)\n",
        "        return res\n",
        "    \n",
        "    def get_all_conj_vertexes(self, edge_list):\n",
        "        res = []\n",
        "        for edge in edge_list:\n",
        "          res.append(self.J[edge])\n",
        "        return res\n",
        "    \n",
        "    def isConnected2(self, start, end, label):\n",
        "        #returns if two vertexes are connected via same-named edges      \n",
        "        if self.seen == None:\n",
        "          self.seen = [False] * len(self.H)\n",
        "        elif self.seen[start]:\n",
        "          return False\n",
        "        else:\n",
        "          self.seen[start] = True\n",
        "        out_edges = self.get_all_conj_edges(start)\n",
        "        conj_vertexes = self.get_all_conj_vertexes(\n",
        "            self.corresponding_edges(out_edges, label))\n",
        "        if end in conj_vertexes:\n",
        "          self.seen = None\n",
        "          return True\n",
        "        else:\n",
        "          for i in conj_vertexes:\n",
        "              if self.isConnected(i, end, label):\n",
        "                return True\n",
        "          return False\n",
        "        \n",
        "    def isConnected(self, start, end, label):\n",
        "        out_edges = self.get_all_conj_edges(start)\n",
        "        conj_vertexes = self.get_all_conj_vertexes(\n",
        "            self.corresponding_edges(out_edges, label))\n",
        "        if end in conj_vertexes:\n",
        "          return True\n",
        "        return False\n",
        "        \n",
        "    def get_vertex_by_label(self, label):\n",
        "        return self.vertexLabels.index(label)\n",
        "\n",
        "    def visualize(self):\n",
        "        graph = gv.Digraph()\n",
        "        for i, _ in enumerate(self.H):\n",
        "            graph.node(self.vertexLabels[i], self.vertexLabels[i])\n",
        "            q = self.H[i]\n",
        "            while q != -1:\n",
        "                graph.edge(self.vertexLabels[self.I[q]], self.vertexLabels[self.J[q]], label=self.edgeLabels[q])\n",
        "                q = self.L[q]\n",
        "        return graph"
      ],
      "execution_count": 0,
      "outputs": []
    },
    {
      "metadata": {
        "id": "2NXDtvDG_qTq",
        "colab_type": "code",
        "colab": {
          "autoexec": {
            "startup": false,
            "wait_interval": 0
          }
        },
        "cellView": "both"
      },
      "cell_type": "code",
      "source": [
        "#@title Класс: Предикат\n",
        "class Predicate():\n",
        "    def __init__(self):\n",
        "        self._space_ = DirectedGraph()\n",
        "    \n",
        "    def clear(self):\n",
        "        self.__init__()\n",
        "        \n",
        "    def P(self, x, label):\n",
        "        self.Q(x, x, label)\n",
        "    \n",
        "    def Q(self, x, y, label):\n",
        "        if x not in self._space_.vertexLabels:\n",
        "            self._space_.addVertex(x)\n",
        "        if y not in self._space_.vertexLabels:\n",
        "            self._space_.addVertex(y)\n",
        "        self._space_.addEdge(x, y, label)\n",
        "        \n",
        "    def check(self, label, args_array):\n",
        "        start = self._space_.get_vertex_by_label(args_array[0])\n",
        "        if len(args_array) == 2:\n",
        "          end = self._space_.get_vertex_by_label(args_array[1])\n",
        "        else:\n",
        "          end = start\n",
        "        return(self._space_.isConnected(start, end, label))\n",
        "    \n",
        "    def visualize(self):\n",
        "        return self._space_.visualize()\n",
        "      \n",
        "    def get_vertexes(self):\n",
        "      return self._space_.vertexLabels"
      ],
      "execution_count": 0,
      "outputs": []
    },
    {
      "metadata": {
        "id": "iFf3RxchL_aQ",
        "colab_type": "code",
        "colab": {
          "autoexec": {
            "startup": false,
            "wait_interval": 0
          }
        },
        "cellView": "both"
      },
      "cell_type": "code",
      "source": [
        "#@title Пример текста для парсинга #2\n",
        "text2 = '''Город(\"Москва\")\n",
        "Город(\"Питер\")\n",
        "Город(\"Владимир\")\n",
        "естьДорога(\"Москва\",\"Питер\")\n",
        "естьДорога(\"Москва\",\"Владимир\")\n",
        "Город(\"Нижний Новгород\")\n",
        "хуй(\"Владимир\",\"Нижний Новгород\")\n",
        "exists(x,y: естьДорога(x,y) & ! естьДорога(y,x)) -> естьДорога(y,x)\n",
        "? !естьДорога(\"Питер\",\"Владимир\")'''"
      ],
      "execution_count": 0,
      "outputs": []
    },
    {
      "metadata": {
        "id": "2NJ3p708wnd3",
        "colab_type": "code",
        "colab": {
          "autoexec": {
            "startup": false,
            "wait_interval": 0
          }
        }
      },
      "cell_type": "code",
      "source": [
        "import re\n",
        "from itertools import product"
      ],
      "execution_count": 0,
      "outputs": []
    },
    {
      "metadata": {
        "id": "UnNF-daEzGhx",
        "colab_type": "code",
        "colab": {
          "autoexec": {
            "startup": false,
            "wait_interval": 0
          }
        }
      },
      "cell_type": "code",
      "source": [
        "pred = Predicate()"
      ],
      "execution_count": 0,
      "outputs": []
    },
    {
      "metadata": {
        "id": "U3KLWPWqra4c",
        "colab_type": "code",
        "colab": {
          "autoexec": {
            "startup": false,
            "wait_interval": 0
          }
        },
        "cellView": "both"
      },
      "cell_type": "code",
      "source": [
        "#@title\n",
        "file_dummy = ['Город(\"Алматы\")',\n",
        "              'Город(\"Астана\")',\n",
        "              'естьДорога(\"Астана\",\"Алматы\")',\n",
        "              'естьДорога(\"Алматы\",\"Балык\")',\n",
        "              '? естьДорога(\"Астана\",\"Астана\")']"
      ],
      "execution_count": 0,
      "outputs": []
    },
    {
      "metadata": {
        "id": "u7x9Z4Kwf5Is",
        "colab_type": "code",
        "colab": {
          "autoexec": {
            "startup": false,
            "wait_interval": 0
          }
        },
        "cellView": "both"
      },
      "cell_type": "code",
      "source": [
        "#@title исКоннектед - прямое соединение вершин, ибо этого хватит: exists сам прокинет все связи дальше, но это не точно"
      ],
      "execution_count": 0,
      "outputs": []
    },
    {
      "metadata": {
        "id": "AmNn0IbjZlQB",
        "colab_type": "code",
        "colab": {
          "autoexec": {
            "startup": false,
            "wait_interval": 0
          }
        },
        "cellView": "both"
      },
      "cell_type": "code",
      "source": [
        "#@title Пример текста для парсинга #1\n",
        "text = '''Город(\"Москва\")\n",
        "Город(\"Питер\")\n",
        "Город(\"Владимир\")\n",
        "естьДорога(\"Питер\",\"Москва\")\n",
        "естьДорога(\"Москва\",\"Владимир\")\n",
        "Город(\"Нижний Новгород\")\n",
        "естьДорога(\"Владимир\",\"Нижний Новгород\")\n",
        "естьДорога(\"Великий Новгород\",\"Питер\")\n",
        "естьДорога(\"Русландия\",\"Великий Новгород\")\n",
        "exists( x , y : естьДорога(x,y) & !естьДорога(y,x)) -> естьДорога(y,x)\n",
        "? естьДорога(\"Питер\",\"Владимир\")\n",
        "? Город(\"Москва\")'''"
      ],
      "execution_count": 0,
      "outputs": []
    },
    {
      "metadata": {
        "id": "HvqxPevGZzuH",
        "colab_type": "code",
        "colab": {
          "autoexec": {
            "startup": false,
            "wait_interval": 0
          }
        },
        "cellView": "code"
      },
      "cell_type": "code",
      "source": [
        "#@title Пример текста для парсинга #1\n",
        "text = '''студент(\"Александр\")\n",
        "студент(\"Николай\")\n",
        "студент(\"Руслан\")\n",
        "студент(\"Никита\")\n",
        "дружба(\"Александр\", \"Никита\")\n",
        "дружба(\"Никита\", \"Николай\")\n",
        "дружба(\"Руслан\", \"Александр\")\n",
        "exists( x, y : дружба(x, y) & !дружба(y,x)) -> дружба(y, x)\n",
        "exists( x, y, z : дружба(x, y) & дружба(y,z) & !дружба(x,z) & !студент(x,z)) -> дружба(x, z)\n",
        "'''"
      ],
      "execution_count": 0,
      "outputs": []
    },
    {
      "metadata": {
        "id": "G2XurzZAqG4E",
        "colab_type": "code",
        "colab": {
          "autoexec": {
            "startup": false,
            "wait_interval": 0
          },
          "base_uri": "https://localhost:8080/",
          "height": 427
        },
        "cellView": "both",
        "outputId": "0fb74161-60d0-4e65-805b-cb598e974595",
        "executionInfo": {
          "status": "ok",
          "timestamp": 1521384451236,
          "user_tz": -180,
          "elapsed": 570,
          "user": {
            "displayName": "Nikolay Maslovich",
            "photoUrl": "//lh4.googleusercontent.com/-naCdTJGg1m4/AAAAAAAAAAI/AAAAAAAAADA/MV7JyqexJHs/s50-c-k-no/photo.jpg",
            "userId": "106938169505381677378"
          }
        }
      },
      "cell_type": "code",
      "source": [
        "pred = Predicate()\n",
        "pred.clear()\n",
        "file_dummy = text.splitlines()\n",
        "for i, line in enumerate(file_dummy):\n",
        "#   try:\n",
        "#     #print(\"line # \", i+1)\n",
        "    parse(line)\n",
        "#   except Exception as e:\n",
        "#     print('{} in line {}'.format(e, i + 1))\n",
        "#     break\n",
        "pred.visualize()"
      ],
      "execution_count": 212,
      "outputs": [
        {
          "output_type": "execute_result",
          "data": {
            "text/plain": [
              "<graphviz.dot.Digraph at 0x7f8b3aae23c8>"
            ],
            "image/svg+xml": "<?xml version=\"1.0\" encoding=\"UTF-8\" standalone=\"no\"?>\n<!DOCTYPE svg PUBLIC \"-//W3C//DTD SVG 1.1//EN\"\n \"http://www.w3.org/Graphics/SVG/1.1/DTD/svg11.dtd\">\n<!-- Generated by graphviz version 2.38.0 (20140413.2041)\n -->\n<!-- Title: %3 Pages: 1 -->\n<svg width=\"526pt\" height=\"305pt\"\n viewBox=\"0.00 0.00 525.55 305.00\" xmlns=\"http://www.w3.org/2000/svg\" xmlns:xlink=\"http://www.w3.org/1999/xlink\">\n<g id=\"graph0\" class=\"graph\" transform=\"scale(1 1) rotate(0) translate(4 301)\">\n<title>%3</title>\n<polygon fill=\"white\" stroke=\"none\" points=\"-4,4 -4,-301 521.547,-301 521.547,4 -4,4\"/>\n<!-- &quot;Александр&quot; -->\n<g id=\"node1\" class=\"node\"><title>&quot;Александр&quot;</title>\n<ellipse fill=\"none\" stroke=\"black\" cx=\"312.547\" cy=\"-279\" rx=\"72.2875\" ry=\"18\"/>\n<text text-anchor=\"middle\" x=\"312.547\" y=\"-275.3\" font-family=\"Times,serif\" font-size=\"14.00\">&quot;Александр&quot;</text>\n</g>\n<!-- &quot;Александр&quot;&#45;&gt;&quot;Александр&quot; -->\n<g id=\"edge4\" class=\"edge\"><title>&quot;Александр&quot;&#45;&gt;&quot;Александр&quot;</title>\n<path fill=\"none\" stroke=\"black\" d=\"M378.18,-286.642C392.388,-285.895 402.691,-283.348 402.691,-279 402.691,-275.773 397.016,-273.538 388.281,-272.295\"/>\n<polygon fill=\"black\" stroke=\"black\" points=\"388.461,-268.796 378.18,-271.358 387.814,-275.766 388.461,-268.796\"/>\n<text text-anchor=\"middle\" x=\"433.191\" y=\"-275.3\" font-family=\"Times,serif\" font-size=\"14.00\">студент</text>\n</g>\n<!-- &quot;Николай&quot; -->\n<g id=\"node2\" class=\"node\"><title>&quot;Николай&quot;</title>\n<ellipse fill=\"none\" stroke=\"black\" cx=\"88.5474\" cy=\"-192\" rx=\"63.0888\" ry=\"18\"/>\n<text text-anchor=\"middle\" x=\"88.5474\" y=\"-188.3\" font-family=\"Times,serif\" font-size=\"14.00\">&quot;Николай&quot;</text>\n</g>\n<!-- &quot;Александр&quot;&#45;&gt;&quot;Николай&quot; -->\n<g id=\"edge1\" class=\"edge\"><title>&quot;Александр&quot;&#45;&gt;&quot;Николай&quot;</title>\n<path fill=\"none\" stroke=\"black\" d=\"M244.304,-273.06C194.05,-268.174 131.045,-259.038 110.547,-243 103.246,-237.288 98.3133,-228.648 95.0044,-220.149\"/>\n<polygon fill=\"black\" stroke=\"black\" points=\"98.2576,-218.836 91.8215,-210.42 91.6046,-221.013 98.2576,-218.836\"/>\n<text text-anchor=\"middle\" x=\"138.547\" y=\"-231.8\" font-family=\"Times,serif\" font-size=\"14.00\">дружба</text>\n</g>\n<!-- &quot;Руслан&quot; -->\n<g id=\"node3\" class=\"node\"><title>&quot;Руслан&quot;</title>\n<ellipse fill=\"none\" stroke=\"black\" cx=\"239.547\" cy=\"-18\" rx=\"53.8905\" ry=\"18\"/>\n<text text-anchor=\"middle\" x=\"239.547\" y=\"-14.3\" font-family=\"Times,serif\" font-size=\"14.00\">&quot;Руслан&quot;</text>\n</g>\n<!-- &quot;Александр&quot;&#45;&gt;&quot;Руслан&quot; -->\n<g id=\"edge2\" class=\"edge\"><title>&quot;Александр&quot;&#45;&gt;&quot;Руслан&quot;</title>\n<path fill=\"none\" stroke=\"black\" d=\"M341.541,-262.273C359.891,-250.547 382.065,-232.667 392.547,-210 403.243,-186.872 400.862,-109.402 385.547,-87 364.883,-56.7714 327.156,-39.6754 295.23,-30.1862\"/>\n<polygon fill=\"black\" stroke=\"black\" points=\"296.107,-26.7971 285.534,-27.4794 294.224,-33.5393 296.107,-26.7971\"/>\n<text text-anchor=\"middle\" x=\"426.547\" y=\"-144.8\" font-family=\"Times,serif\" font-size=\"14.00\">дружба</text>\n</g>\n<!-- &quot;Никита&quot; -->\n<g id=\"node4\" class=\"node\"><title>&quot;Никита&quot;</title>\n<ellipse fill=\"none\" stroke=\"black\" cx=\"240.547\" cy=\"-105\" rx=\"57.3905\" ry=\"18\"/>\n<text text-anchor=\"middle\" x=\"240.547\" y=\"-101.3\" font-family=\"Times,serif\" font-size=\"14.00\">&quot;Никита&quot;</text>\n</g>\n<!-- &quot;Александр&quot;&#45;&gt;&quot;Никита&quot; -->\n<g id=\"edge3\" class=\"edge\"><title>&quot;Александр&quot;&#45;&gt;&quot;Никита&quot;</title>\n<path fill=\"none\" stroke=\"black\" d=\"M320.491,-260.866C329.188,-239.456 340.202,-202.204 326.547,-174 316.568,-153.388 296.974,-137.131 279.006,-125.688\"/>\n<polygon fill=\"black\" stroke=\"black\" points=\"280.733,-122.642 270.366,-120.459 277.109,-128.631 280.733,-122.642\"/>\n<text text-anchor=\"middle\" x=\"360.547\" y=\"-188.3\" font-family=\"Times,serif\" font-size=\"14.00\">дружба</text>\n</g>\n<!-- &quot;Николай&quot;&#45;&gt;&quot;Александр&quot; -->\n<g id=\"edge6\" class=\"edge\"><title>&quot;Николай&quot;&#45;&gt;&quot;Александр&quot;</title>\n<path fill=\"none\" stroke=\"black\" d=\"M121.707,-207.512C135.618,-213.695 151.929,-221.069 166.547,-228 180.017,-234.386 182.695,-237.494 196.547,-243 215.191,-250.411 236.044,-257.158 254.872,-262.707\"/>\n<polygon fill=\"black\" stroke=\"black\" points=\"253.932,-266.078 264.511,-265.496 255.878,-259.354 253.932,-266.078\"/>\n<text text-anchor=\"middle\" x=\"224.547\" y=\"-231.8\" font-family=\"Times,serif\" font-size=\"14.00\">дружба</text>\n</g>\n<!-- &quot;Николай&quot;&#45;&gt;&quot;Николай&quot; -->\n<g id=\"edge8\" class=\"edge\"><title>&quot;Николай&quot;&#45;&gt;&quot;Николай&quot;</title>\n<path fill=\"none\" stroke=\"black\" d=\"M145.725,-199.736C159.434,-199.131 169.592,-196.553 169.592,-192 169.592,-188.657 164.114,-186.378 155.774,-185.164\"/>\n<polygon fill=\"black\" stroke=\"black\" points=\"155.997,-181.67 145.725,-184.264 155.373,-188.642 155.997,-181.67\"/>\n<text text-anchor=\"middle\" x=\"200.092\" y=\"-188.3\" font-family=\"Times,serif\" font-size=\"14.00\">студент</text>\n</g>\n<!-- &quot;Николай&quot;&#45;&gt;&quot;Руслан&quot; -->\n<g id=\"edge5\" class=\"edge\"><title>&quot;Николай&quot;&#45;&gt;&quot;Руслан&quot;</title>\n<path fill=\"none\" stroke=\"black\" d=\"M60.9238,-175.715C29.4445,-156.213 -15.1313,-120.928 5.54739,-87 23.8488,-56.9722 117.062,-37.2677 180.174,-27.1418\"/>\n<polygon fill=\"black\" stroke=\"black\" points=\"181.077,-30.5431 190.416,-25.5396 179.995,-23.6272 181.077,-30.5431\"/>\n<text text-anchor=\"middle\" x=\"33.5474\" y=\"-101.3\" font-family=\"Times,serif\" font-size=\"14.00\">дружба</text>\n</g>\n<!-- &quot;Николай&quot;&#45;&gt;&quot;Никита&quot; -->\n<g id=\"edge7\" class=\"edge\"><title>&quot;Николай&quot;&#45;&gt;&quot;Никита&quot;</title>\n<path fill=\"none\" stroke=\"black\" d=\"M126.74,-177.627C141.73,-171.78 158.832,-164.345 173.547,-156 181.463,-151.511 197.698,-139.424 212.204,-128.259\"/>\n<polygon fill=\"black\" stroke=\"black\" points=\"214.707,-130.747 220.469,-121.856 210.42,-125.214 214.707,-130.747\"/>\n<text text-anchor=\"middle\" x=\"222.547\" y=\"-144.8\" font-family=\"Times,serif\" font-size=\"14.00\">дружба</text>\n</g>\n<!-- &quot;Руслан&quot;&#45;&gt;&quot;Александр&quot; -->\n<g id=\"edge11\" class=\"edge\"><title>&quot;Руслан&quot;&#45;&gt;&quot;Александр&quot;</title>\n<path fill=\"none\" stroke=\"black\" d=\"M289.124,-25.375C315.522,-30.3443 347.767,-39.0239 373.547,-54 420.291,-81.1533 438.151,-90.9375 458.547,-141 480.586,-195.092 410.784,-237.201 360.216,-259.751\"/>\n<polygon fill=\"black\" stroke=\"black\" points=\"358.809,-256.546 351.024,-263.733 361.591,-262.97 358.809,-256.546\"/>\n<text text-anchor=\"middle\" x=\"489.547\" y=\"-144.8\" font-family=\"Times,serif\" font-size=\"14.00\">дружба</text>\n</g>\n<!-- &quot;Руслан&quot;&#45;&gt;&quot;Николай&quot; -->\n<g id=\"edge10\" class=\"edge\"><title>&quot;Руслан&quot;&#45;&gt;&quot;Николай&quot;</title>\n<path fill=\"none\" stroke=\"black\" d=\"M203.67,-31.4971C176.981,-42.4285 141.372,-60.7041 118.547,-87 99.9381,-108.44 92.845,-140.794 90.1567,-163.713\"/>\n<polygon fill=\"black\" stroke=\"black\" points=\"86.659,-163.523 89.1827,-173.812 93.6267,-164.195 86.659,-163.523\"/>\n<text text-anchor=\"middle\" x=\"146.547\" y=\"-101.3\" font-family=\"Times,serif\" font-size=\"14.00\">дружба</text>\n</g>\n<!-- &quot;Руслан&quot;&#45;&gt;&quot;Руслан&quot; -->\n<g id=\"edge12\" class=\"edge\"><title>&quot;Руслан&quot;&#45;&gt;&quot;Руслан&quot;</title>\n<path fill=\"none\" stroke=\"black\" d=\"M288.305,-25.8168C301.474,-25.4044 311.493,-22.7988 311.493,-18 311.493,-14.5508 306.317,-12.2347 298.516,-11.0516\"/>\n<polygon fill=\"black\" stroke=\"black\" points=\"298.566,-7.54327 288.305,-10.1832 297.973,-14.5181 298.566,-7.54327\"/>\n<text text-anchor=\"middle\" x=\"341.993\" y=\"-14.3\" font-family=\"Times,serif\" font-size=\"14.00\">студент</text>\n</g>\n<!-- &quot;Руслан&quot;&#45;&gt;&quot;Никита&quot; -->\n<g id=\"edge9\" class=\"edge\"><title>&quot;Руслан&quot;&#45;&gt;&quot;Никита&quot;</title>\n<path fill=\"none\" stroke=\"black\" d=\"M250.234,-35.8091C253.208,-41.3803 256.036,-47.7574 257.547,-54 259.437,-61.807 258.043,-70.1264 255.39,-77.6932\"/>\n<polygon fill=\"black\" stroke=\"black\" points=\"252.08,-76.5308 251.349,-87.1004 258.512,-79.2936 252.08,-76.5308\"/>\n<text text-anchor=\"middle\" x=\"285.547\" y=\"-57.8\" font-family=\"Times,serif\" font-size=\"14.00\">дружба</text>\n</g>\n<!-- &quot;Никита&quot;&#45;&gt;&quot;Александр&quot; -->\n<g id=\"edge14\" class=\"edge\"><title>&quot;Никита&quot;&#45;&gt;&quot;Александр&quot;</title>\n<path fill=\"none\" stroke=\"black\" d=\"M246.856,-122.952C248.839,-128.639 250.931,-135.049 252.547,-141 260.75,-171.197 254.435,-181.148 266.547,-210 273.002,-225.376 283.166,-240.901 292.299,-253.227\"/>\n<polygon fill=\"black\" stroke=\"black\" points=\"289.546,-255.389 298.399,-261.209 295.107,-251.138 289.546,-255.389\"/>\n<text text-anchor=\"middle\" x=\"294.547\" y=\"-188.3\" font-family=\"Times,serif\" font-size=\"14.00\">дружба</text>\n</g>\n<!-- &quot;Никита&quot;&#45;&gt;&quot;Николай&quot; -->\n<g id=\"edge15\" class=\"edge\"><title>&quot;Никита&quot;&#45;&gt;&quot;Николай&quot;</title>\n<path fill=\"none\" stroke=\"black\" d=\"M186.215,-110.897C161.798,-115.463 133.953,-124.226 113.547,-141 106.139,-147.09 100.725,-155.928 96.8699,-164.485\"/>\n<polygon fill=\"black\" stroke=\"black\" points=\"93.5829,-163.279 93.1559,-173.866 100.091,-165.856 93.5829,-163.279\"/>\n<text text-anchor=\"middle\" x=\"141.547\" y=\"-144.8\" font-family=\"Times,serif\" font-size=\"14.00\">дружба</text>\n</g>\n<!-- &quot;Никита&quot;&#45;&gt;&quot;Руслан&quot; -->\n<g id=\"edge13\" class=\"edge\"><title>&quot;Никита&quot;&#45;&gt;&quot;Руслан&quot;</title>\n<path fill=\"none\" stroke=\"black\" d=\"M214.447,-88.8051C207.686,-83.4724 201.267,-76.8238 197.547,-69 192.642,-58.6816 198.108,-48.7383 206.54,-40.474\"/>\n<polygon fill=\"black\" stroke=\"black\" points=\"208.835,-43.1164 214.157,-33.9555 204.284,-37.7978 208.835,-43.1164\"/>\n<text text-anchor=\"middle\" x=\"225.547\" y=\"-57.8\" font-family=\"Times,serif\" font-size=\"14.00\">дружба</text>\n</g>\n<!-- &quot;Никита&quot;&#45;&gt;&quot;Никита&quot; -->\n<g id=\"edge16\" class=\"edge\"><title>&quot;Никита&quot;&#45;&gt;&quot;Никита&quot;</title>\n<path fill=\"none\" stroke=\"black\" d=\"M292.211,-112.794C305.626,-112.315 315.742,-109.717 315.742,-105 315.742,-101.573 310.402,-99.2644 302.336,-98.0745\"/>\n<polygon fill=\"black\" stroke=\"black\" points=\"302.473,-94.5735 292.211,-97.2062 301.875,-101.548 302.473,-94.5735\"/>\n<text text-anchor=\"middle\" x=\"346.242\" y=\"-101.3\" font-family=\"Times,serif\" font-size=\"14.00\">студент</text>\n</g>\n</g>\n</svg>\n"
          },
          "metadata": {
            "tags": []
          },
          "execution_count": 212
        }
      ]
    },
    {
      "metadata": {
        "id": "tBzDYsdKhzNq",
        "colab_type": "code",
        "colab": {
          "autoexec": {
            "startup": false,
            "wait_interval": 0
          },
          "base_uri": "https://localhost:8080/",
          "height": 36
        },
        "outputId": "e429227c-30d2-49be-af87-b67ecde87731",
        "executionInfo": {
          "status": "ok",
          "timestamp": 1521384242122,
          "user_tz": -180,
          "elapsed": 676,
          "user": {
            "displayName": "Nikolay Maslovich",
            "photoUrl": "//lh4.googleusercontent.com/-naCdTJGg1m4/AAAAAAAAAAI/AAAAAAAAADA/MV7JyqexJHs/s50-c-k-no/photo.jpg",
            "userId": "106938169505381677378"
          }
        }
      },
      "cell_type": "code",
      "source": [
        "pred.check(\"аутист\", ['\"Николай\"'])"
      ],
      "execution_count": 209,
      "outputs": [
        {
          "output_type": "execute_result",
          "data": {
            "text/plain": [
              "False"
            ]
          },
          "metadata": {
            "tags": []
          },
          "execution_count": 209
        }
      ]
    },
    {
      "metadata": {
        "id": "2yqB8_dmqnPm",
        "colab_type": "code",
        "colab": {
          "autoexec": {
            "startup": false,
            "wait_interval": 0
          }
        }
      },
      "cell_type": "code",
      "source": [
        "def parse(line):\n",
        "  if line.strip()[0] == '?':\n",
        "    question_mode(line)\n",
        "  elif 'exists' in line:\n",
        "    changes = True\n",
        "    while(changes):\n",
        "      changes = exist_mode(line)\n",
        "  else:\n",
        "    statement_mode(line)"
      ],
      "execution_count": 0,
      "outputs": []
    },
    {
      "metadata": {
        "id": "-Miqg3xWtvtO",
        "colab_type": "code",
        "colab": {
          "autoexec": {
            "startup": false,
            "wait_interval": 0
          }
        }
      },
      "cell_type": "code",
      "source": [
        "def statement_mode(line):\n",
        "  #supports only one statement \n",
        "  #return TUPLE where the first el is name of predicate, the second - \n",
        "  #list of all it's terms\n",
        "  operator_name = get_operator_name(line)\n",
        "  args_line = inside_first_pars(line)\n",
        "  args = derive_operands(args_line)\n",
        "  if len(args) == 1:\n",
        "    if args[0] == '':\n",
        "       raise Exception('not supported number of arguments: 0')\n",
        "    pred.P(args[0], operator_name)\n",
        "  elif len(args) == 2:\n",
        "    pred.Q(args[0], args[1], operator_name)\n",
        "  else:\n",
        "    raise Exception('not supported number of arguments: {}'.format(len(args)))"
      ],
      "execution_count": 0,
      "outputs": []
    },
    {
      "metadata": {
        "id": "oOz28fAZ2txr",
        "colab_type": "code",
        "colab": {
          "autoexec": {
            "startup": false,
            "wait_interval": 0
          }
        }
      },
      "cell_type": "code",
      "source": [
        "def question_mode(line):\n",
        "    print(evaluate(line))"
      ],
      "execution_count": 0,
      "outputs": []
    },
    {
      "metadata": {
        "id": "30ZQ0T329bab",
        "colab_type": "code",
        "colab": {
          "autoexec": {
            "startup": false,
            "wait_interval": 0
          }
        }
      },
      "cell_type": "code",
      "source": [
        "def exist_mode(line):\n",
        "\n",
        "    if '->' not in line:\n",
        "      raise Exception('Wrong deduction syntaxis')\n",
        "    left_side, right_side = line.split('->')\n",
        "    left_operators = derive_list_of_operators(left_side)\n",
        "    exists_matching_vars = {}\n",
        "    for i,exargs in enumerate(left_operators):\n",
        "        try:\n",
        "          operands, formula = exargs[1].split(':')\n",
        "        except:\n",
        "          raise Exception('Invalid syntax')\n",
        "        \n",
        "        operands = derive_operands(operands)\n",
        "        if operands[0] == '':\n",
        "          raise Exception('not supported number of arguments')\n",
        "          \n",
        "        total_vertecies_set = []\n",
        "        for i in range(len(operands)):\n",
        "          total_vertecies_set.append(pred.get_vertexes())\n",
        "        for combination in product(*total_vertecies_set):\n",
        "          replaced = formula\n",
        "          for i in range(len(combination)):\n",
        "            replaced = replaced.replace(operands[i], combination[i])\n",
        "          \n",
        "          if evaluate(replaced):\n",
        "            for i in range(len(combination)):\n",
        "              exists_matching_vars[operands[i]] = combination[i]\n",
        "            break\n",
        "         \n",
        "    if len(exists_matching_vars) == 0:\n",
        "      return False\n",
        "    right_operators_bounds = inside_pars(right_side)\n",
        "    right_operators = []\n",
        "    for start, end in right_operators_bounds:\n",
        "      right_operators.append(right_side[:end+1])\n",
        "      right_side = right_side[end:]\n",
        "      \n",
        "    for statement in right_operators:\n",
        "      replaced = statement\n",
        "      for variable in exists_matching_vars:\n",
        "        replaced = replaced.replace(variable, exists_matching_vars[variable])\n",
        "      statement_mode(replaced)\n",
        "#     print(exists_matching_vars)\n",
        "    return True"
      ],
      "execution_count": 0,
      "outputs": []
    },
    {
      "metadata": {
        "id": "dI0kz2uV34Jp",
        "colab_type": "code",
        "colab": {
          "autoexec": {
            "startup": false,
            "wait_interval": 0
          }
        }
      },
      "cell_type": "code",
      "source": [
        "def evaluate_predicate(name, args):\n",
        "    operands = derive_operands(args)\n",
        "    if len(operands) == 0 or len(operands) > 2:\n",
        "      raise Exception('Incorrect num of args')\n",
        "    return pred.check(name, operands)\n",
        "\n",
        "def and_(left, right):\n",
        "    if isinstance(left, bool) and isinstance(right, bool):\n",
        "      return left and right\n",
        "    elif isinstance(left, set) and isinstance(right, set):\n",
        "      return left.intersection(right)\n",
        "    else:\n",
        "      raise Exception('Types of predicates do not match')\n",
        "      \n",
        "def or_(left, right):\n",
        "    if isinstance(left, bool) and isinstance(right, bool):\n",
        "      return left or right\n",
        "    elif isinstance(left, set) and isinstance(right, set):\n",
        "      return left.union(right)\n",
        "    else:\n",
        "      raise Exception('Types of predicates do not match')\n",
        "      \n",
        "def not_(right):\n",
        "    if isinstance(right, bool):\n",
        "      return not right\n",
        "    else:\n",
        "      raise Exception('Not supported format of operand in not opeartor')"
      ],
      "execution_count": 0,
      "outputs": []
    },
    {
      "metadata": {
        "id": "t_5jITvrwu_m",
        "colab_type": "code",
        "colab": {
          "autoexec": {
            "startup": false,
            "wait_interval": 0
          }
        }
      },
      "cell_type": "code",
      "source": [
        "def get_operator_name(line):\n",
        "    #return THE FIRST operator name in string\n",
        "    try:\n",
        "        return re.match(r'.*?(\\w+?)\\(', line).groups()[0]\n",
        "    except:\n",
        "        raise Exception('Operator name not valid')\n",
        "        return ''"
      ],
      "execution_count": 0,
      "outputs": []
    },
    {
      "metadata": {
        "id": "ufdd7nHjDJ_R",
        "colab_type": "code",
        "colab": {
          "autoexec": {
            "startup": false,
            "wait_interval": 0
          }
        }
      },
      "cell_type": "code",
      "source": [
        "def derive_list_of_operators(line):\n",
        "    #return LIST of operators, so the same names are allowed\n",
        "    par_bnds = inside_pars(line)\n",
        "    operators = []\n",
        "    operators.append([get_operator_name(line[:par_bnds[0][0]]),line[par_bnds[0][0]:par_bnds[0][1]]])\n",
        "    for i in range(1,len(par_bnds)):\n",
        "        operators.append([get_operator_name(line[par_bnds[i-1][1]:par_bnds[i][0]]),line[par_bnds[i][0]:par_bnds[i][1]]])\n",
        "    return operators"
      ],
      "execution_count": 0,
      "outputs": []
    },
    {
      "metadata": {
        "id": "pJz4nltwxd-K",
        "colab_type": "code",
        "colab": {
          "autoexec": {
            "startup": false,
            "wait_interval": 0
          }
        }
      },
      "cell_type": "code",
      "source": [
        "def inside_first_pars(line):\n",
        "    #returns everything inside THE FIRST pars in line\n",
        "    opens = 0\n",
        "    start = -1\n",
        "    end = -1\n",
        "    for i, ch in enumerate(line):\n",
        "        if ch == '(':\n",
        "            if opens == 0:\n",
        "                start = i + 1\n",
        "            opens += 1\n",
        "        elif ch == ')':\n",
        "            opens -= 1\n",
        "            if opens == 0:\n",
        "                end = i\n",
        "                break\n",
        "    return line[start:end]"
      ],
      "execution_count": 0,
      "outputs": []
    },
    {
      "metadata": {
        "id": "xU_8cW3LKd1I",
        "colab_type": "code",
        "colab": {
          "autoexec": {
            "startup": false,
            "wait_interval": 0
          }
        }
      },
      "cell_type": "code",
      "source": [
        "def inside_pars(line):\n",
        "    #returns bounds of all pars\n",
        "    opens = 0\n",
        "    start = -1\n",
        "    end = -1\n",
        "    bnds = []\n",
        "    for i, ch in enumerate(line):\n",
        "        if ch == '(':\n",
        "            if opens == 0:\n",
        "                start = i + 1\n",
        "            opens += 1\n",
        "        elif ch == ')':\n",
        "            opens -= 1\n",
        "            if opens == 0:\n",
        "                end = i\n",
        "                bnds.append((start, end))\n",
        "    return bnds"
      ],
      "execution_count": 0,
      "outputs": []
    },
    {
      "metadata": {
        "id": "fHDb5IjSwg-j",
        "colab_type": "code",
        "colab": {
          "autoexec": {
            "startup": false,
            "wait_interval": 0
          }
        }
      },
      "cell_type": "code",
      "source": [
        "def evaluate(line):\n",
        "    res = split(line, '|')\n",
        "    if res:\n",
        "        left, right = res\n",
        "        return or_(evaluate(left), evaluate(right))\n",
        "    res = split(line, '&')\n",
        "    if res:\n",
        "        left, right = res\n",
        "        return and_(evaluate(left), evaluate(right))\n",
        "    res = split(line, '!')\n",
        "    if res:\n",
        "        right = res[1]\n",
        "        return not_(evaluate(right))\n",
        "    res = unpack_parenthesis(line)\n",
        "    if res != '':\n",
        "        return evaluate(res)\n",
        "    res = get_predicate(line)\n",
        "    if res != (None, ''):\n",
        "        name, args = res\n",
        "        return evaluate_predicate(name, evaluate(args))\n",
        "    return line\n",
        "\n",
        "def get_predicate(line):\n",
        "    closed = 0\n",
        "    start = -1\n",
        "    end = -1\n",
        "    name = None\n",
        "    for i, ch in enumerate(reversed(line)):\n",
        "        if ch == ')':\n",
        "            if closed == 0:\n",
        "                start = i + 1\n",
        "            closed += 1\n",
        "        elif ch == '(':\n",
        "            closed -= 1\n",
        "            if closed == 0:\n",
        "                end = i\n",
        "                symbol = re.match(r'\\w*',line[len(line)-i-2]).group()\n",
        "                if (symbol != ''):\n",
        "                    name = re.search(r'\\w*$',line[:len(line)-end-1]).group()\n",
        "                    break\n",
        "                else:\n",
        "                    start = -1\n",
        "                    end = -1\n",
        "    return name, line[len(line)-end:len(line)-start]\n",
        "\n",
        "def unpack_parenthesis(line):\n",
        "    closed = 0\n",
        "    start = -1\n",
        "    end = -1\n",
        "    for i, ch in enumerate(reversed(line)):\n",
        "        if ch == ')':\n",
        "            if closed == 0:\n",
        "                start = i + 1\n",
        "            closed += 1\n",
        "        elif ch == '(':\n",
        "            closed -= 1\n",
        "            if closed == 0:\n",
        "                end = i\n",
        "                if (re.match(r'\\w*',line[len(line)-i-2]).group() == ''):\n",
        "                    break\n",
        "                else:\n",
        "                    start = -1\n",
        "                    end = -1\n",
        "    return line[len(line)-end:len(line)-start]\n",
        "\n",
        "def split(line, symb):\n",
        "    closed = 0\n",
        "    for index, i in enumerate(reversed(line)):\n",
        "        if i == ')':\n",
        "            closed += 1\n",
        "        elif i == '(':\n",
        "            closed -= 1\n",
        "        elif i == symb and closed == 0:\n",
        "            return line[:len(line)-index-1], line[len(line)-index:]\n",
        "    return None\n",
        "\n",
        "def derive_operands(arg_line):\n",
        "    #return SIMPLE operands in line\n",
        "    return [x.strip() for x in arg_line.split(',')]"
      ],
      "execution_count": 0,
      "outputs": []
    },
    {
      "metadata": {
        "id": "d9SPdBpGDjuD",
        "colab_type": "code",
        "colab": {
          "autoexec": {
            "startup": false,
            "wait_interval": 0
          }
        }
      },
      "cell_type": "code",
      "source": [
        ""
      ],
      "execution_count": 0,
      "outputs": []
    }
  ]
}